{
 "cells": [
  {
   "cell_type": "code",
   "execution_count": 8,
   "metadata": {
    "colab": {
     "base_uri": "https://localhost:8080/"
    },
    "id": "JRqPVfxIDrsZ",
    "outputId": "3486312b-463d-4fd8-9323-a6a1fbb2beff"
   },
   "outputs": [
    {
     "name": "stdout",
     "output_type": "stream",
     "text": [
      "Defaulting to user installation because normal site-packages is not writeable\n",
      "Requirement already satisfied: openai in /home/maria/.local/lib/python3.10/site-packages (0.27.4)\n",
      "Requirement already satisfied: requests>=2.20 in /usr/lib/python3/dist-packages (from openai) (2.25.1)\n",
      "Requirement already satisfied: aiohttp in /home/maria/.local/lib/python3.10/site-packages (from openai) (3.8.4)\n",
      "Requirement already satisfied: tqdm in /home/maria/.local/lib/python3.10/site-packages (from openai) (4.65.0)\n",
      "Requirement already satisfied: frozenlist>=1.1.1 in /home/maria/.local/lib/python3.10/site-packages (from aiohttp->openai) (1.3.3)\n",
      "Requirement already satisfied: charset-normalizer<4.0,>=2.0 in /home/maria/.local/lib/python3.10/site-packages (from aiohttp->openai) (3.1.0)\n",
      "Requirement already satisfied: attrs>=17.3.0 in /usr/lib/python3/dist-packages (from aiohttp->openai) (21.2.0)\n",
      "Requirement already satisfied: aiosignal>=1.1.2 in /home/maria/.local/lib/python3.10/site-packages (from aiohttp->openai) (1.3.1)\n",
      "Requirement already satisfied: yarl<2.0,>=1.0 in /home/maria/.local/lib/python3.10/site-packages (from aiohttp->openai) (1.8.2)\n",
      "Requirement already satisfied: async-timeout<5.0,>=4.0.0a3 in /home/maria/.local/lib/python3.10/site-packages (from aiohttp->openai) (4.0.2)\n",
      "Requirement already satisfied: multidict<7.0,>=4.5 in /home/maria/.local/lib/python3.10/site-packages (from aiohttp->openai) (6.0.4)\n",
      "Requirement already satisfied: idna>=2.0 in /usr/lib/python3/dist-packages (from yarl<2.0,>=1.0->aiohttp->openai) (3.3)\n"
     ]
    }
   ],
   "source": [
    "!pip install openai"
   ]
  },
  {
   "cell_type": "code",
   "execution_count": 1,
   "metadata": {
    "id": "MBVX_Wd7FPga"
   },
   "outputs": [],
   "source": [
    "import openai\n",
    "import random"
   ]
  },
  {
   "cell_type": "code",
   "execution_count": 2,
   "metadata": {
    "id": "Rd0Rae6BFXNq"
   },
   "outputs": [],
   "source": [
    "# Set up the OpenAI API credentials\n",
    "openai.api_key = \"YOUR-OPENAI-API-KEY\""
   ]
  },
  {
   "cell_type": "code",
   "execution_count": 3,
   "metadata": {
    "id": "msuU7lmS6Pkw"
   },
   "outputs": [],
   "source": [
    "# List of tones appropriate for advertisements\n",
    "all_tones = [\"persuasive\", \"excited\", \"informative\", \"authoritative\", \"urgent\"]"
   ]
  },
  {
   "cell_type": "markdown",
   "metadata": {},
   "source": [
    "Note: These predefined tones will later be changed to the new idea discussed. There will be no predefined tones, and the tones of the generated prompts will be validated by using another method. Most probably, a pretrained text classification model will be used, such as roberta (can be found in huggingface)."
   ]
  },
  {
   "cell_type": "code",
   "execution_count": 4,
   "metadata": {
    "id": "TN9ha3uHptKn"
   },
   "outputs": [],
   "source": [
    "# Function to generate advertisement prompts\n",
    "def generate_advertisement(product_service_name, keywords, tone, length=\"medium\", organization_name=None):\n",
    "    # Select two random tones from the list\n",
    "    random_tones_1 = random.sample(all_tones, 2)\n",
    "    random_tones_3 = random.sample(all_tones, 2)\n",
    "\n",
    "    prompt1_tones = random_tones_1\n",
    "    prompt3_tones = random_tones_3\n",
    "    prompt_tones = [prompt1_tones, tone, prompt3_tones]\n",
    "\n",
    "    model = \"text-davinci-002\"\n",
    "    temperature = 0.5\n",
    "\n",
    "    if length == \"short\":\n",
    "        max_tokens = 240\n",
    "    elif length == \"long\":\n",
    "        max_tokens = 720\n",
    "    else:\n",
    "        max_tokens = 480\n",
    "\n",
    "    prompts = []\n",
    "    for tone in prompt_tones:\n",
    "        # Set the parameters for the OpenAI API call\n",
    "        prompt = f\"Generate an advertisement prompt for {product_service_name}. Keywords to include are {', '.join(keywords[:20])}. The tone should be {', '.join(tone[:5])}. The length should be {length if length else 'medium'}.\"\n",
    "        if organization_name:\n",
    "            prompt += f\" This advertisement is for {organization_name}.\"\n",
    "\n",
    "        # Call the OpenAI API to generate the advertisement prompts\n",
    "        response = openai.Completion.create(  \n",
    "            engine=model,\n",
    "            prompt=prompt,\n",
    "            temperature=temperature,\n",
    "            max_tokens=max_tokens,\n",
    "            n=1,\n",
    "            stop=None,\n",
    "            frequency_penalty=0,\n",
    "            presence_penalty=0\n",
    "        )\n",
    "\n",
    "        # Extract the generated prompts from the response\n",
    "        prompt_choices = [choice.text.strip() for choice in response.choices]\n",
    "        prompts.append(prompt_choices)\n",
    "\n",
    "    return prompts"
   ]
  },
  {
   "cell_type": "code",
   "execution_count": 6,
   "metadata": {
    "colab": {
     "base_uri": "https://localhost:8080/"
    },
    "id": "UmdV6VylqYEg",
    "outputId": "2cefe2f2-1938-40b9-d757-8aa660c7e772"
   },
   "outputs": [
    {
     "name": "stdout",
     "output_type": "stream",
     "text": [
      "Generated advertisement prompts:\n",
      "1: Are you looking for a new smartphone that has amazing features and a sleek design? Look no further than ABC Technologies! Our new smartphone has a high performance processor, a long battery life, and 5G connectivity. Plus, the camera is amazing and takes great pictures and videos. And, our phone has some futuristic features that you'll love. So come and check us out today, we know you'll be impressed!\n",
      "\n",
      "2: Looking for a new smartphone that has it all? Check out the latest ABC Technologies smartphone! This phone has high performance, a sleek design, long battery life, 5G connectivity, and an amazing camera. Plus, it has futuristic features that will make your life easier.\n",
      "\n",
      "3: Are you looking for a new smartphone that has amazing features and is high-performing? Look no further than ABC Technologies! Our new smartphone has a sleek design, long battery life, 5G connectivity, and an amazing camera. Plus, it has futuristic features that will make your life easier.\n",
      "\n"
     ]
    }
   ],
   "source": [
    "# Example usage of the function\n",
    "product_service_name = \"new smartphone\"\n",
    "keywords = [\"high performance\", \"sleek design\", \"long battery life\", \"5G connectivity\", \"amazing camera\", \"futuristic features\"]\n",
    "tone = [\"exciting\", \"informative\", \"persuasive\"]\n",
    "length = \"long\"\n",
    "organization_name = \"ABC Technologies\"\n",
    "\n",
    "prompts = generate_advertisement(product_service_name, keywords, tone, length, organization_name)\n",
    "\n",
    "# Print the generated prompts\n",
    "print(\"Generated advertisement prompts:\")\n",
    "for i, prompt in enumerate(prompts):\n",
    "    print(f\"{i+1}: {prompt[0]}\\n\")"
   ]
  },
  {
   "cell_type": "code",
   "execution_count": null,
   "metadata": {},
   "outputs": [],
   "source": []
  }
 ],
 "metadata": {
  "colab": {
   "provenance": []
  },
  "kernelspec": {
   "display_name": "Python 3 (ipykernel)",
   "language": "python",
   "name": "python3"
  },
  "language_info": {
   "codemirror_mode": {
    "name": "ipython",
    "version": 3
   },
   "file_extension": ".py",
   "mimetype": "text/x-python",
   "name": "python",
   "nbconvert_exporter": "python",
   "pygments_lexer": "ipython3",
   "version": "3.10.6"
  }
 },
 "nbformat": 4,
 "nbformat_minor": 1
}
